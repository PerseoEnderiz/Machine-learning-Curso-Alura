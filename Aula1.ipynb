{
 "cells": [
  {
   "cell_type": "markdown",
   "metadata": {},
   "source": [
    "# Clasificacion con SKLearn\n",
    "\n",
    "    Features -  Son las caracteristicas para poder llegar a clasificar algo\n",
    "    \n",
    "    Target - Evaluación final segun las features"
   ]
  },
  {
   "cell_type": "markdown",
   "metadata": {
    "vscode": {
     "languageId": "plaintext"
    }
   },
   "source": [
    "### Target\n",
    "\n",
    "Queremos hacer un sistema de clasificación que identifique entre perro o gato\n",
    "\n",
    "### Features \n",
    "    ### 1 = si 0 = no\n",
    "\n",
    " 1. Tiene el pelo largo?\n",
    " 2. Tiene las uñas afiladas?\n",
    " 3. Hace miau?"
   ]
  },
  {
   "cell_type": "code",
   "execution_count": null,
   "metadata": {
    "vscode": {
     "languageId": "plaintext"
    }
   },
   "outputs": [],
   "source": [
    "a = [1,2,3]\n",
    "a"
   ]
  },
  {
   "cell_type": "markdown",
   "metadata": {},
   "source": []
  },
  {
   "cell_type": "code",
   "execution_count": null,
   "metadata": {
    "vscode": {
     "languageId": "plaintext"
    }
   },
   "outputs": [],
   "source": []
  }
 ],
 "metadata": {
  "language_info": {
   "name": "python"
  }
 },
 "nbformat": 4,
 "nbformat_minor": 2
}
